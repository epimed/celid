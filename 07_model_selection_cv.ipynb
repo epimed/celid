{
 "cells": [
  {
   "cell_type": "markdown",
   "id": "08dc7d3e-954b-4eb0-ac30-a648b6162b78",
   "metadata": {},
   "source": [
    "# Sélection d'un modèle"
   ]
  },
  {
   "cell_type": "code",
   "execution_count": 1,
   "id": "a8152dc3-f1e3-4caf-b73b-20bea438bc51",
   "metadata": {},
   "outputs": [],
   "source": [
    "import pandas as pd\n",
    "import numpy as np\n",
    "from sklearn.preprocessing import StandardScaler\n",
    "from sklearn.neural_network import MLPClassifier\n",
    "from sklearn.model_selection import StratifiedKFold, cross_val_score, GridSearchCV\n",
    "from sklearn.pipeline import Pipeline"
   ]
  },
  {
   "cell_type": "code",
   "execution_count": 2,
   "id": "89247393-b24a-46c7-9720-be5f9a1e1357",
   "metadata": {},
   "outputs": [],
   "source": [
    "data_dir = 'data/'"
   ]
  },
  {
   "cell_type": "code",
   "execution_count": 3,
   "id": "1f895cc3-d7fa-4bbc-be3a-ada5f4123c59",
   "metadata": {},
   "outputs": [],
   "source": [
    "data = pd.read_csv(data_dir + 'TSG3_train_2386_samples_882_genes.csv', sep=';', index_col=0)"
   ]
  },
  {
   "cell_type": "code",
   "execution_count": 4,
   "id": "b06783a5-878c-4cbc-91bc-263c6e85d600",
   "metadata": {},
   "outputs": [],
   "source": [
    "y = data['target']\n",
    "X = data.drop(columns=['target'])"
   ]
  },
  {
   "cell_type": "markdown",
   "id": "fad530f1-d8ee-486c-bc0c-590c700f07c1",
   "metadata": {},
   "source": [
    "## Classifier"
   ]
  },
  {
   "cell_type": "code",
   "execution_count": 5,
   "id": "14b966c9-01c3-4eba-a0a7-72d7f3d63f7c",
   "metadata": {},
   "outputs": [],
   "source": [
    "random_state = 0\n",
    "classifier = MLPClassifier(hidden_layer_sizes=(100, 100, 100), random_state=random_state, max_iter=500)"
   ]
  },
  {
   "cell_type": "markdown",
   "id": "93c02db7-972d-4bbd-8cb2-74a11b54798a",
   "metadata": {},
   "source": [
    "## Validation croisée"
   ]
  },
  {
   "cell_type": "code",
   "execution_count": 6,
   "id": "76de15db-3493-4e28-ac6a-315b2de16b57",
   "metadata": {},
   "outputs": [],
   "source": [
    "cross_validation = StratifiedKFold(n_splits=3, random_state=random_state, shuffle=True)"
   ]
  },
  {
   "cell_type": "markdown",
   "id": "58459264-e0d8-4662-835c-7970b07069e9",
   "metadata": {},
   "source": [
    "## Pipeline"
   ]
  },
  {
   "cell_type": "code",
   "execution_count": 7,
   "id": "da15c362-c97b-4a2c-8823-df5a1453e515",
   "metadata": {},
   "outputs": [
    {
     "name": "stdout",
     "output_type": "stream",
     "text": [
      "[0.98115578 0.9836478  0.98238994]\n",
      "Mean accuracy 0.982\n"
     ]
    }
   ],
   "source": [
    "scaler = StandardScaler()\n",
    "pipeline = Pipeline([('scaler', scaler), ('classifier', classifier)])\n",
    "accuracy = cross_val_score(pipeline, X, y, cv=cross_validation)\n",
    "print(accuracy)\n",
    "print('Mean accuracy', '{:.3f}'.format(accuracy.mean()))"
   ]
  },
  {
   "cell_type": "code",
   "execution_count": null,
   "id": "a43fc186-3146-4b69-b503-79faa3c61e20",
   "metadata": {},
   "outputs": [],
   "source": []
  }
 ],
 "metadata": {
  "kernelspec": {
   "display_name": "Python 3 (ipykernel)",
   "language": "python",
   "name": "python3"
  },
  "language_info": {
   "codemirror_mode": {
    "name": "ipython",
    "version": 3
   },
   "file_extension": ".py",
   "mimetype": "text/x-python",
   "name": "python",
   "nbconvert_exporter": "python",
   "pygments_lexer": "ipython3",
   "version": "3.9.7"
  }
 },
 "nbformat": 4,
 "nbformat_minor": 5
}
