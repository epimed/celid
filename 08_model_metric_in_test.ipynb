{
 "cells": [
  {
   "cell_type": "markdown",
   "id": "08dc7d3e-954b-4eb0-ac30-a648b6162b78",
   "metadata": {},
   "source": [
    "# Prédiction du modèle dans les données normales TSG3 (test)"
   ]
  },
  {
   "cell_type": "code",
   "execution_count": 1,
   "id": "a8152dc3-f1e3-4caf-b73b-20bea438bc51",
   "metadata": {},
   "outputs": [],
   "source": [
    "import pandas as pd\n",
    "import numpy as np\n",
    "from sklearn.preprocessing import StandardScaler\n",
    "from sklearn.neural_network import MLPClassifier\n",
    "from sklearn.metrics import accuracy_score"
   ]
  },
  {
   "cell_type": "code",
   "execution_count": 2,
   "id": "89247393-b24a-46c7-9720-be5f9a1e1357",
   "metadata": {},
   "outputs": [],
   "source": [
    "data_dir = 'data/'"
   ]
  },
  {
   "cell_type": "markdown",
   "id": "3d7af256-d668-465c-b0ab-86d33280e139",
   "metadata": {},
   "source": [
    "## Dataset d'entrainement X_train"
   ]
  },
  {
   "cell_type": "code",
   "execution_count": 3,
   "id": "1f895cc3-d7fa-4bbc-be3a-ada5f4123c59",
   "metadata": {},
   "outputs": [],
   "source": [
    "data_train = pd.read_csv(data_dir + 'TSG3_train_2386_samples_882_genes.csv', sep=';', index_col=0)"
   ]
  },
  {
   "cell_type": "code",
   "execution_count": 4,
   "id": "b06783a5-878c-4cbc-91bc-263c6e85d600",
   "metadata": {},
   "outputs": [
    {
     "name": "stdout",
     "output_type": "stream",
     "text": [
      "(2386, 882)\n"
     ]
    }
   ],
   "source": [
    "y_train = data_train['target']\n",
    "X_train = data_train.drop(columns=['target'])\n",
    "print(X_train.shape)"
   ]
  },
  {
   "cell_type": "markdown",
   "id": "a469a75b-f102-433d-8514-5a2a02e87587",
   "metadata": {},
   "source": [
    "## Dataset de test X_test"
   ]
  },
  {
   "cell_type": "code",
   "execution_count": 5,
   "id": "b51ec9ea-ef89-47e3-9e6d-c15217d5ee69",
   "metadata": {},
   "outputs": [],
   "source": [
    "data_test = pd.read_csv(data_dir + 'TSG3_test_796_samples_1685_genes.csv', sep=';', index_col=0)"
   ]
  },
  {
   "cell_type": "code",
   "execution_count": 6,
   "id": "4a373724-5a4b-4d2b-a49e-a290b1b7cb5b",
   "metadata": {},
   "outputs": [
    {
     "name": "stdout",
     "output_type": "stream",
     "text": [
      "(796, 882)\n"
     ]
    }
   ],
   "source": [
    "y_test = data_test['target']\n",
    "X_test = data_test.drop(columns=['target'])\n",
    "X_test = X_test[X_train.columns]\n",
    "print(X_test.shape)"
   ]
  },
  {
   "cell_type": "markdown",
   "id": "67f3770f-ada5-4f62-8817-119022ee6f15",
   "metadata": {},
   "source": [
    "## Normalisation de données"
   ]
  },
  {
   "cell_type": "code",
   "execution_count": 7,
   "id": "16421c96-26e9-495c-ad7c-d5fa050239ea",
   "metadata": {},
   "outputs": [],
   "source": [
    "scaler = StandardScaler()\n",
    "scaler.fit(X_train, y_train) # Calcul sur X_train uniquement\n",
    "X_train_scaled = scaler.transform(X_train)\n",
    "X_train_scaled = pd.DataFrame(X_train_scaled, index=X_train.index, columns=X_train.columns)\n",
    "X_test_scaled = scaler.transform(X_test)\n",
    "X_test_scaled = pd.DataFrame(X_test_scaled, index=X_test.index, columns=X_test.columns)"
   ]
  },
  {
   "cell_type": "markdown",
   "id": "58459264-e0d8-4662-835c-7970b07069e9",
   "metadata": {},
   "source": [
    "## Prédiction"
   ]
  },
  {
   "cell_type": "code",
   "execution_count": 8,
   "id": "da15c362-c97b-4a2c-8823-df5a1453e515",
   "metadata": {},
   "outputs": [
    {
     "data": {
      "text/plain": [
       "MLPClassifier(hidden_layer_sizes=(100, 100, 100), max_iter=500, random_state=0)"
      ]
     },
     "execution_count": 8,
     "metadata": {},
     "output_type": "execute_result"
    }
   ],
   "source": [
    "random_state = 0\n",
    "classifier = MLPClassifier(hidden_layer_sizes=(100, 100, 100), random_state=random_state, max_iter=500)\n",
    "classifier.fit(X_train_scaled, y_train)"
   ]
  },
  {
   "cell_type": "code",
   "execution_count": 9,
   "id": "a43fc186-3146-4b69-b503-79faa3c61e20",
   "metadata": {},
   "outputs": [],
   "source": [
    "y_train_pred = classifier.predict(X_train_scaled)\n",
    "y_test_pred = classifier.predict(X_test_scaled)"
   ]
  },
  {
   "cell_type": "code",
   "execution_count": 10,
   "id": "7c9a923d-5cd6-46b0-bf65-5a45a23aff13",
   "metadata": {},
   "outputs": [
    {
     "name": "stdout",
     "output_type": "stream",
     "text": [
      "Accuracy train 1.000\n",
      "Accuracy test 0.981\n"
     ]
    }
   ],
   "source": [
    "accuracy_train = accuracy_score(y_train, y_train_pred)\n",
    "accuracy_test = accuracy_score(y_test, y_test_pred)\n",
    "print('Accuracy train', '{:.3f}'.format(accuracy_train))\n",
    "print('Accuracy test', '{:.3f}'.format(accuracy_test))"
   ]
  },
  {
   "cell_type": "markdown",
   "id": "aed9b76b-3fc8-476d-b634-a224eec8cefb",
   "metadata": {},
   "source": [
    "## Erreurs de prédiction"
   ]
  },
  {
   "cell_type": "code",
   "execution_count": 11,
   "id": "8a7be42b-0099-4dfe-8af4-93cf6456d227",
   "metadata": {},
   "outputs": [],
   "source": [
    "results = pd.DataFrame()\n",
    "results['real'] = y_test\n",
    "results['predicted'] = y_test_pred\n",
    "results['type'] = results['real'] + ' -> ' + results['predicted']\n",
    "# results.head()"
   ]
  },
  {
   "cell_type": "code",
   "execution_count": 12,
   "id": "754ca6dc-1d41-4539-ba40-0c10494a2f10",
   "metadata": {},
   "outputs": [
    {
     "name": "stdout",
     "output_type": "stream",
     "text": [
      "(15, 3)\n"
     ]
    },
    {
     "data": {
      "text/html": [
       "<div>\n",
       "<style scoped>\n",
       "    .dataframe tbody tr th:only-of-type {\n",
       "        vertical-align: middle;\n",
       "    }\n",
       "\n",
       "    .dataframe tbody tr th {\n",
       "        vertical-align: top;\n",
       "    }\n",
       "\n",
       "    .dataframe thead th {\n",
       "        text-align: right;\n",
       "    }\n",
       "</style>\n",
       "<table border=\"1\" class=\"dataframe\">\n",
       "  <thead>\n",
       "    <tr style=\"text-align: right;\">\n",
       "      <th></th>\n",
       "      <th>real</th>\n",
       "      <th>predicted</th>\n",
       "      <th>type</th>\n",
       "    </tr>\n",
       "    <tr>\n",
       "      <th>id_sample</th>\n",
       "      <th></th>\n",
       "      <th></th>\n",
       "      <th></th>\n",
       "    </tr>\n",
       "  </thead>\n",
       "  <tbody>\n",
       "    <tr>\n",
       "      <th>TCGA-A6-2680-11A</th>\n",
       "      <td>colon</td>\n",
       "      <td>stomach</td>\n",
       "      <td>colon -&gt; stomach</td>\n",
       "    </tr>\n",
       "    <tr>\n",
       "      <th>E-MTAB-2836-smoothmuscle_8c</th>\n",
       "      <td>muscles</td>\n",
       "      <td>stomach</td>\n",
       "      <td>muscles -&gt; stomach</td>\n",
       "    </tr>\n",
       "    <tr>\n",
       "      <th>TCGA-V5-A7RE-11A</th>\n",
       "      <td>esophagus</td>\n",
       "      <td>colon</td>\n",
       "      <td>esophagus -&gt; colon</td>\n",
       "    </tr>\n",
       "    <tr>\n",
       "      <th>GTEX-QVJO-0011-R9A-SM-2S1QH</th>\n",
       "      <td>central_nervous_system</td>\n",
       "      <td>brain</td>\n",
       "      <td>central_nervous_system -&gt; brain</td>\n",
       "    </tr>\n",
       "    <tr>\n",
       "      <th>GTEX-WFON-1826-SM-3GILG</th>\n",
       "      <td>breast</td>\n",
       "      <td>connective_tissues</td>\n",
       "      <td>breast -&gt; connective_tissues</td>\n",
       "    </tr>\n",
       "  </tbody>\n",
       "</table>\n",
       "</div>"
      ],
      "text/plain": [
       "                                               real           predicted  \\\n",
       "id_sample                                                                 \n",
       "TCGA-A6-2680-11A                              colon             stomach   \n",
       "E-MTAB-2836-smoothmuscle_8c                 muscles             stomach   \n",
       "TCGA-V5-A7RE-11A                          esophagus               colon   \n",
       "GTEX-QVJO-0011-R9A-SM-2S1QH  central_nervous_system               brain   \n",
       "GTEX-WFON-1826-SM-3GILG                      breast  connective_tissues   \n",
       "\n",
       "                                                        type  \n",
       "id_sample                                                     \n",
       "TCGA-A6-2680-11A                            colon -> stomach  \n",
       "E-MTAB-2836-smoothmuscle_8c               muscles -> stomach  \n",
       "TCGA-V5-A7RE-11A                          esophagus -> colon  \n",
       "GTEX-QVJO-0011-R9A-SM-2S1QH  central_nervous_system -> brain  \n",
       "GTEX-WFON-1826-SM-3GILG         breast -> connective_tissues  "
      ]
     },
     "execution_count": 12,
     "metadata": {},
     "output_type": "execute_result"
    }
   ],
   "source": [
    "errors = results[results['real']!=results['predicted']]\n",
    "print(errors.shape)\n",
    "errors.head()"
   ]
  },
  {
   "cell_type": "code",
   "execution_count": 13,
   "id": "040c0384-a495-4b49-ad17-45d44c4e3770",
   "metadata": {},
   "outputs": [
    {
     "data": {
      "text/html": [
       "<div>\n",
       "<style scoped>\n",
       "    .dataframe tbody tr th:only-of-type {\n",
       "        vertical-align: middle;\n",
       "    }\n",
       "\n",
       "    .dataframe tbody tr th {\n",
       "        vertical-align: top;\n",
       "    }\n",
       "\n",
       "    .dataframe thead th {\n",
       "        text-align: right;\n",
       "    }\n",
       "</style>\n",
       "<table border=\"1\" class=\"dataframe\">\n",
       "  <thead>\n",
       "    <tr style=\"text-align: right;\">\n",
       "      <th></th>\n",
       "      <th>type</th>\n",
       "      <th>size</th>\n",
       "    </tr>\n",
       "  </thead>\n",
       "  <tbody>\n",
       "    <tr>\n",
       "      <th>0</th>\n",
       "      <td>central_nervous_system -&gt; brain</td>\n",
       "      <td>2</td>\n",
       "    </tr>\n",
       "    <tr>\n",
       "      <th>1</th>\n",
       "      <td>connective_tissues -&gt; breast</td>\n",
       "      <td>2</td>\n",
       "    </tr>\n",
       "    <tr>\n",
       "      <th>2</th>\n",
       "      <td>esophagus -&gt; colon</td>\n",
       "      <td>2</td>\n",
       "    </tr>\n",
       "    <tr>\n",
       "      <th>3</th>\n",
       "      <td>artery -&gt; connective_tissues</td>\n",
       "      <td>1</td>\n",
       "    </tr>\n",
       "    <tr>\n",
       "      <th>4</th>\n",
       "      <td>blood -&gt; bronchus_lung</td>\n",
       "      <td>1</td>\n",
       "    </tr>\n",
       "    <tr>\n",
       "      <th>5</th>\n",
       "      <td>breast -&gt; connective_tissues</td>\n",
       "      <td>1</td>\n",
       "    </tr>\n",
       "    <tr>\n",
       "      <th>6</th>\n",
       "      <td>colon -&gt; stomach</td>\n",
       "      <td>1</td>\n",
       "    </tr>\n",
       "    <tr>\n",
       "      <th>7</th>\n",
       "      <td>esophagus -&gt; stomach</td>\n",
       "      <td>1</td>\n",
       "    </tr>\n",
       "    <tr>\n",
       "      <th>8</th>\n",
       "      <td>kidney -&gt; breast</td>\n",
       "      <td>1</td>\n",
       "    </tr>\n",
       "    <tr>\n",
       "      <th>9</th>\n",
       "      <td>muscles -&gt; stomach</td>\n",
       "      <td>1</td>\n",
       "    </tr>\n",
       "    <tr>\n",
       "      <th>10</th>\n",
       "      <td>stomach -&gt; esophagus</td>\n",
       "      <td>1</td>\n",
       "    </tr>\n",
       "    <tr>\n",
       "      <th>11</th>\n",
       "      <td>thyroid_gland -&gt; muscles</td>\n",
       "      <td>1</td>\n",
       "    </tr>\n",
       "  </tbody>\n",
       "</table>\n",
       "</div>"
      ],
      "text/plain": [
       "                               type  size\n",
       "0   central_nervous_system -> brain     2\n",
       "1      connective_tissues -> breast     2\n",
       "2                esophagus -> colon     2\n",
       "3      artery -> connective_tissues     1\n",
       "4            blood -> bronchus_lung     1\n",
       "5      breast -> connective_tissues     1\n",
       "6                  colon -> stomach     1\n",
       "7              esophagus -> stomach     1\n",
       "8                  kidney -> breast     1\n",
       "9                muscles -> stomach     1\n",
       "10             stomach -> esophagus     1\n",
       "11         thyroid_gland -> muscles     1"
      ]
     },
     "execution_count": 13,
     "metadata": {},
     "output_type": "execute_result"
    }
   ],
   "source": [
    "sample_size = errors.groupby(['type']).size().reset_index(name='size')\n",
    "sample_size = sample_size.sort_values(by=['size'], ascending=False).reset_index(drop=True)\n",
    "sample_size"
   ]
  },
  {
   "cell_type": "code",
   "execution_count": null,
   "id": "40544953-9727-45f5-a30f-062bedc1cd57",
   "metadata": {},
   "outputs": [],
   "source": []
  }
 ],
 "metadata": {
  "kernelspec": {
   "display_name": "Python 3 (ipykernel)",
   "language": "python",
   "name": "python3"
  },
  "language_info": {
   "codemirror_mode": {
    "name": "ipython",
    "version": 3
   },
   "file_extension": ".py",
   "mimetype": "text/x-python",
   "name": "python",
   "nbconvert_exporter": "python",
   "pygments_lexer": "ipython3",
   "version": "3.9.7"
  }
 },
 "nbformat": 4,
 "nbformat_minor": 5
}
