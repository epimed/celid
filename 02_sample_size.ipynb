{
 "cells": [
  {
   "cell_type": "markdown",
   "id": "b1e4bb90-300e-4694-ab76-fbe2655a81a9",
   "metadata": {},
   "source": [
    "# Effectif du dataset TSG3"
   ]
  },
  {
   "cell_type": "code",
   "execution_count": 1,
   "id": "50be1e09-77bf-43ec-b0d1-0bec290aa96b",
   "metadata": {},
   "outputs": [],
   "source": [
    "import pandas as pd\n",
    "import numpy as np"
   ]
  },
  {
   "cell_type": "markdown",
   "id": "4e270d70-6bf8-4ebd-ba5c-89f2152628df",
   "metadata": {},
   "source": [
    " ## Annotations"
   ]
  },
  {
   "cell_type": "code",
   "execution_count": 2,
   "id": "7d111024-6dc2-4820-a43e-8b2abf288eba",
   "metadata": {},
   "outputs": [
    {
     "data": {
      "text/html": [
       "<div>\n",
       "<style scoped>\n",
       "    .dataframe tbody tr th:only-of-type {\n",
       "        vertical-align: middle;\n",
       "    }\n",
       "\n",
       "    .dataframe tbody tr th {\n",
       "        vertical-align: top;\n",
       "    }\n",
       "\n",
       "    .dataframe thead th {\n",
       "        text-align: right;\n",
       "    }\n",
       "</style>\n",
       "<table border=\"1\" class=\"dataframe\">\n",
       "  <thead>\n",
       "    <tr style=\"text-align: right;\">\n",
       "      <th></th>\n",
       "      <th>tissue_group_level1</th>\n",
       "      <th>tissue_group_level2</th>\n",
       "      <th>tissue_group_level3</th>\n",
       "      <th>source</th>\n",
       "      <th>tissue_status</th>\n",
       "      <th>tissue_stage</th>\n",
       "      <th>id_topology</th>\n",
       "      <th>topology</th>\n",
       "      <th>id_topology_group</th>\n",
       "      <th>topology_group</th>\n",
       "    </tr>\n",
       "    <tr>\n",
       "      <th>id_sample</th>\n",
       "      <th></th>\n",
       "      <th></th>\n",
       "      <th></th>\n",
       "      <th></th>\n",
       "      <th></th>\n",
       "      <th></th>\n",
       "      <th></th>\n",
       "      <th></th>\n",
       "      <th></th>\n",
       "      <th></th>\n",
       "    </tr>\n",
       "  </thead>\n",
       "  <tbody>\n",
       "    <tr>\n",
       "      <th>TCGA-06-0675-11A</th>\n",
       "      <td>brain</td>\n",
       "      <td>neuro</td>\n",
       "      <td>soma</td>\n",
       "      <td>TCGA</td>\n",
       "      <td>normal</td>\n",
       "      <td>adult</td>\n",
       "      <td>C71.9</td>\n",
       "      <td>Brain, NOS</td>\n",
       "      <td>C71</td>\n",
       "      <td>BRAIN</td>\n",
       "    </tr>\n",
       "    <tr>\n",
       "      <th>TCGA-06-0678-11A</th>\n",
       "      <td>brain</td>\n",
       "      <td>neuro</td>\n",
       "      <td>soma</td>\n",
       "      <td>TCGA</td>\n",
       "      <td>normal</td>\n",
       "      <td>adult</td>\n",
       "      <td>C71.9</td>\n",
       "      <td>Brain, NOS</td>\n",
       "      <td>C71</td>\n",
       "      <td>BRAIN</td>\n",
       "    </tr>\n",
       "    <tr>\n",
       "      <th>TCGA-06-0680-11A</th>\n",
       "      <td>brain</td>\n",
       "      <td>neuro</td>\n",
       "      <td>soma</td>\n",
       "      <td>TCGA</td>\n",
       "      <td>normal</td>\n",
       "      <td>adult</td>\n",
       "      <td>C71.9</td>\n",
       "      <td>Brain, NOS</td>\n",
       "      <td>C71</td>\n",
       "      <td>BRAIN</td>\n",
       "    </tr>\n",
       "    <tr>\n",
       "      <th>TCGA-06-0681-11A</th>\n",
       "      <td>brain</td>\n",
       "      <td>neuro</td>\n",
       "      <td>soma</td>\n",
       "      <td>TCGA</td>\n",
       "      <td>normal</td>\n",
       "      <td>adult</td>\n",
       "      <td>C71.9</td>\n",
       "      <td>Brain, NOS</td>\n",
       "      <td>C71</td>\n",
       "      <td>BRAIN</td>\n",
       "    </tr>\n",
       "    <tr>\n",
       "      <th>TCGA-06-AABW-11A</th>\n",
       "      <td>brain</td>\n",
       "      <td>neuro</td>\n",
       "      <td>soma</td>\n",
       "      <td>TCGA</td>\n",
       "      <td>normal</td>\n",
       "      <td>adult</td>\n",
       "      <td>C71.9</td>\n",
       "      <td>Brain, NOS</td>\n",
       "      <td>C71</td>\n",
       "      <td>BRAIN</td>\n",
       "    </tr>\n",
       "  </tbody>\n",
       "</table>\n",
       "</div>"
      ],
      "text/plain": [
       "                 tissue_group_level1 tissue_group_level2 tissue_group_level3  \\\n",
       "id_sample                                                                      \n",
       "TCGA-06-0675-11A               brain               neuro                soma   \n",
       "TCGA-06-0678-11A               brain               neuro                soma   \n",
       "TCGA-06-0680-11A               brain               neuro                soma   \n",
       "TCGA-06-0681-11A               brain               neuro                soma   \n",
       "TCGA-06-AABW-11A               brain               neuro                soma   \n",
       "\n",
       "                 source tissue_status tissue_stage id_topology    topology  \\\n",
       "id_sample                                                                    \n",
       "TCGA-06-0675-11A   TCGA        normal        adult       C71.9  Brain, NOS   \n",
       "TCGA-06-0678-11A   TCGA        normal        adult       C71.9  Brain, NOS   \n",
       "TCGA-06-0680-11A   TCGA        normal        adult       C71.9  Brain, NOS   \n",
       "TCGA-06-0681-11A   TCGA        normal        adult       C71.9  Brain, NOS   \n",
       "TCGA-06-AABW-11A   TCGA        normal        adult       C71.9  Brain, NOS   \n",
       "\n",
       "                 id_topology_group topology_group  \n",
       "id_sample                                          \n",
       "TCGA-06-0675-11A               C71          BRAIN  \n",
       "TCGA-06-0678-11A               C71          BRAIN  \n",
       "TCGA-06-0680-11A               C71          BRAIN  \n",
       "TCGA-06-0681-11A               C71          BRAIN  \n",
       "TCGA-06-AABW-11A               C71          BRAIN  "
      ]
     },
     "execution_count": 2,
     "metadata": {},
     "output_type": "execute_result"
    }
   ],
   "source": [
    "expgroup = pd.read_csv('data/expression_data_tsg3_3686_samples_20982_genes__targets.csv', sep=';', index_col=0)\n",
    "expgroup.head()"
   ]
  },
  {
   "cell_type": "markdown",
   "id": "95d7bc52-f058-4747-94ff-384ea2c304d6",
   "metadata": {},
   "source": [
    "### Level 1"
   ]
  },
  {
   "cell_type": "code",
   "execution_count": 3,
   "id": "b7b4996b-ed03-482c-88e8-bbeeb9ceea79",
   "metadata": {},
   "outputs": [
    {
     "data": {
      "text/html": [
       "<div>\n",
       "<style scoped>\n",
       "    .dataframe tbody tr th:only-of-type {\n",
       "        vertical-align: middle;\n",
       "    }\n",
       "\n",
       "    .dataframe tbody tr th {\n",
       "        vertical-align: top;\n",
       "    }\n",
       "\n",
       "    .dataframe thead th {\n",
       "        text-align: right;\n",
       "    }\n",
       "</style>\n",
       "<table border=\"1\" class=\"dataframe\">\n",
       "  <thead>\n",
       "    <tr style=\"text-align: right;\">\n",
       "      <th></th>\n",
       "      <th>tissue_group_level1</th>\n",
       "      <th>size</th>\n",
       "    </tr>\n",
       "  </thead>\n",
       "  <tbody>\n",
       "    <tr>\n",
       "      <th>0</th>\n",
       "      <td>brain</td>\n",
       "      <td>329</td>\n",
       "    </tr>\n",
       "    <tr>\n",
       "      <th>1</th>\n",
       "      <td>esophagus</td>\n",
       "      <td>240</td>\n",
       "    </tr>\n",
       "    <tr>\n",
       "      <th>2</th>\n",
       "      <td>bronchus_lung</td>\n",
       "      <td>237</td>\n",
       "    </tr>\n",
       "    <tr>\n",
       "      <th>3</th>\n",
       "      <td>artery</td>\n",
       "      <td>214</td>\n",
       "    </tr>\n",
       "    <tr>\n",
       "      <th>4</th>\n",
       "      <td>heart</td>\n",
       "      <td>177</td>\n",
       "    </tr>\n",
       "  </tbody>\n",
       "</table>\n",
       "</div>"
      ],
      "text/plain": [
       "  tissue_group_level1  size\n",
       "0               brain   329\n",
       "1           esophagus   240\n",
       "2       bronchus_lung   237\n",
       "3              artery   214\n",
       "4               heart   177"
      ]
     },
     "execution_count": 3,
     "metadata": {},
     "output_type": "execute_result"
    }
   ],
   "source": [
    "feature = 'tissue_group_level1'\n",
    "query = (expgroup['tissue_stage']!='fetal') & (expgroup[feature]!='unknown')\n",
    "sample_size = expgroup[query].groupby([feature]).size().reset_index(name='size')\n",
    "sample_size = sample_size.sort_values(by=['size'], ascending=False).reset_index(drop=True)\n",
    "sample_size.head()"
   ]
  },
  {
   "cell_type": "code",
   "execution_count": 4,
   "id": "95b8b12a-fd6f-4f82-bdfa-0e6e116b7113",
   "metadata": {},
   "outputs": [
    {
     "data": {
      "image/png": "[encoded data removed]",
      "text/plain": [
       "<Figure size 1080x360 with 1 Axes>"
      ]
     },
     "metadata": {
      "needs_background": "light"
     },
     "output_type": "display_data"
    }
   ],
   "source": [
    "ax = sample_size.plot.bar(x=feature, y='size', rot=90, figsize=(15, 5))"
   ]
  },
  {
   "cell_type": "markdown",
   "id": "b5d967fa-5eba-4d9b-9a43-9c929530e08f",
   "metadata": {},
   "source": [
    "### Level 2"
   ]
  },
  {
   "cell_type": "code",
   "execution_count": 5,
   "id": "5a286aea-b5d0-4f37-a161-1d9a35039aea",
   "metadata": {},
   "outputs": [
    {
     "data": {
      "text/html": [
       "<div>\n",
       "<style scoped>\n",
       "    .dataframe tbody tr th:only-of-type {\n",
       "        vertical-align: middle;\n",
       "    }\n",
       "\n",
       "    .dataframe tbody tr th {\n",
       "        vertical-align: top;\n",
       "    }\n",
       "\n",
       "    .dataframe thead th {\n",
       "        text-align: right;\n",
       "    }\n",
       "</style>\n",
       "<table border=\"1\" class=\"dataframe\">\n",
       "  <thead>\n",
       "    <tr style=\"text-align: right;\">\n",
       "      <th></th>\n",
       "      <th>tissue_group_level2</th>\n",
       "      <th>size</th>\n",
       "    </tr>\n",
       "  </thead>\n",
       "  <tbody>\n",
       "    <tr>\n",
       "      <th>0</th>\n",
       "      <td>digestive</td>\n",
       "      <td>520</td>\n",
       "    </tr>\n",
       "    <tr>\n",
       "      <th>1</th>\n",
       "      <td>neuro</td>\n",
       "      <td>451</td>\n",
       "    </tr>\n",
       "    <tr>\n",
       "      <th>2</th>\n",
       "      <td>female_genital</td>\n",
       "      <td>343</td>\n",
       "    </tr>\n",
       "    <tr>\n",
       "      <th>3</th>\n",
       "      <td>heart_muscles</td>\n",
       "      <td>326</td>\n",
       "    </tr>\n",
       "    <tr>\n",
       "      <th>4</th>\n",
       "      <td>soft_tissues</td>\n",
       "      <td>305</td>\n",
       "    </tr>\n",
       "  </tbody>\n",
       "</table>\n",
       "</div>"
      ],
      "text/plain": [
       "  tissue_group_level2  size\n",
       "0           digestive   520\n",
       "1               neuro   451\n",
       "2      female_genital   343\n",
       "3       heart_muscles   326\n",
       "4        soft_tissues   305"
      ]
     },
     "execution_count": 5,
     "metadata": {},
     "output_type": "execute_result"
    }
   ],
   "source": [
    "feature = 'tissue_group_level2'\n",
    "query = (expgroup['tissue_stage']!='fetal') & (expgroup[feature]!='unknown')\n",
    "sample_size = expgroup[query].groupby([feature]).size().reset_index(name='size')\n",
    "sample_size = sample_size.sort_values(by=['size'], ascending=False).reset_index(drop=True)\n",
    "sample_size.head()"
   ]
  },
  {
   "cell_type": "code",
   "execution_count": 6,
   "id": "96ab353a-4b4f-451c-92db-cd7924eaf76d",
   "metadata": {},
   "outputs": [
    {
     "data": {
      "image/png": "[encoded data removed]",
      "text/plain": [
       "<Figure size 1080x360 with 1 Axes>"
      ]
     },
     "metadata": {
      "needs_background": "light"
     },
     "output_type": "display_data"
    }
   ],
   "source": [
    "ax = sample_size.plot.bar(x=feature, y='size', rot=90, figsize=(15, 5))"
   ]
  },
  {
   "cell_type": "code",
   "execution_count": null,
   "id": "a0ff385c-bdc4-46bc-9025-81093cc73e8c",
   "metadata": {},
   "outputs": [],
   "source": []
  }
 ],
 "metadata": {
  "kernelspec": {
   "display_name": "Python 3 (ipykernel)",
   "language": "python",
   "name": "python3"
  },
  "language_info": {
   "codemirror_mode": {
    "name": "ipython",
    "version": 3
   },
   "file_extension": ".py",
   "mimetype": "text/x-python",
   "name": "python",
   "nbconvert_exporter": "python",
   "pygments_lexer": "ipython3",
   "version": "3.9.7"
  }
 },
 "nbformat": 4,
 "nbformat_minor": 5
}
