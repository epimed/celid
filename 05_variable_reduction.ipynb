{
 "cells": [
  {
   "cell_type": "markdown",
   "id": "797db934-0d69-4790-9426-69f109d38f71",
   "metadata": {},
   "source": [
    "# Réduction de variables dans TSG3 train"
   ]
  },
  {
   "cell_type": "code",
   "execution_count": 1,
   "id": "1cd42deb-f665-4f56-abcc-ccd5e34443fa",
   "metadata": {},
   "outputs": [],
   "source": [
    "import pandas as pd\n",
    "import numpy as np\n",
    "import seaborn as sns\n",
    "\n",
    "import matplotlib.pyplot as plt\n",
    "%matplotlib inline"
   ]
  },
  {
   "cell_type": "code",
   "execution_count": 2,
   "id": "dd24f242-12f6-489b-bf35-4335062d3ecb",
   "metadata": {},
   "outputs": [],
   "source": [
    "data_dir = 'data/'"
   ]
  },
  {
   "cell_type": "code",
   "execution_count": 3,
   "id": "1774f076-f278-40a3-82be-9ebfbb730ee4",
   "metadata": {},
   "outputs": [],
   "source": [
    "data = pd.read_csv(data_dir + 'TSG3_train_2386_samples_1685_genes.csv', sep=';', index_col=0)"
   ]
  },
  {
   "cell_type": "markdown",
   "id": "e34987ea-6aee-400c-932c-367deb367895",
   "metadata": {},
   "source": [
    "## Cibles"
   ]
  },
  {
   "cell_type": "code",
   "execution_count": 4,
   "id": "28f5ed67-1947-4706-8d22-a5d8d0df39bf",
   "metadata": {},
   "outputs": [
    {
     "data": {
      "text/plain": [
       "id_sample\n",
       "TCGA-85-7710-11A               bronchus_lung\n",
       "TCGA-DD-A3A8-11A                       liver\n",
       "GTEX-PX3G-0326-SM-2I3EO                heart\n",
       "GTEX-XLM4-0011-R3B-SM-4AT6E            brain\n",
       "GTEX-RM2N-0726-SM-48FD5            esophagus\n",
       "Name: target, dtype: object"
      ]
     },
     "execution_count": 4,
     "metadata": {},
     "output_type": "execute_result"
    }
   ],
   "source": [
    "y = data['target']\n",
    "y.head()"
   ]
  },
  {
   "cell_type": "markdown",
   "id": "282c4f25-424c-4ccb-94b3-2dd800de637f",
   "metadata": {},
   "source": [
    "## Dataset d'entrainement"
   ]
  },
  {
   "cell_type": "code",
   "execution_count": 5,
   "id": "6fc0f174-e80a-4221-b1f5-6a2cf2ab87ef",
   "metadata": {},
   "outputs": [
    {
     "data": {
      "text/html": [
       "<div>\n",
       "<style scoped>\n",
       "    .dataframe tbody tr th:only-of-type {\n",
       "        vertical-align: middle;\n",
       "    }\n",
       "\n",
       "    .dataframe tbody tr th {\n",
       "        vertical-align: top;\n",
       "    }\n",
       "\n",
       "    .dataframe thead th {\n",
       "        text-align: right;\n",
       "    }\n",
       "</style>\n",
       "<table border=\"1\" class=\"dataframe\">\n",
       "  <thead>\n",
       "    <tr style=\"text-align: right;\">\n",
       "      <th></th>\n",
       "      <th>NAT2@10</th>\n",
       "      <th>AANAT@15</th>\n",
       "      <th>ABCA4@24</th>\n",
       "      <th>ACRV1@56</th>\n",
       "      <th>ADH1A@124</th>\n",
       "      <th>ADH4@127</th>\n",
       "      <th>ACAN@176</th>\n",
       "      <th>AHSG@197</th>\n",
       "      <th>ALPG@251</th>\n",
       "      <th>AMY2A@279</th>\n",
       "      <th>...</th>\n",
       "      <th>LOC102724804@102724804</th>\n",
       "      <th>RGS2-AS1@102724954</th>\n",
       "      <th>CASC23@103581031</th>\n",
       "      <th>LINC01337@103689917</th>\n",
       "      <th>LINC01269@103695436</th>\n",
       "      <th>SMAD1-AS1@104326058</th>\n",
       "      <th>LINC01320@104355288</th>\n",
       "      <th>LINC01525@104355292</th>\n",
       "      <th>FOXP1-AS1@104502416</th>\n",
       "      <th>LOC104613533@104613533</th>\n",
       "    </tr>\n",
       "    <tr>\n",
       "      <th>id_sample</th>\n",
       "      <th></th>\n",
       "      <th></th>\n",
       "      <th></th>\n",
       "      <th></th>\n",
       "      <th></th>\n",
       "      <th></th>\n",
       "      <th></th>\n",
       "      <th></th>\n",
       "      <th></th>\n",
       "      <th></th>\n",
       "      <th></th>\n",
       "      <th></th>\n",
       "      <th></th>\n",
       "      <th></th>\n",
       "      <th></th>\n",
       "      <th></th>\n",
       "      <th></th>\n",
       "      <th></th>\n",
       "      <th></th>\n",
       "      <th></th>\n",
       "      <th></th>\n",
       "    </tr>\n",
       "  </thead>\n",
       "  <tbody>\n",
       "    <tr>\n",
       "      <th>TCGA-85-7710-11A</th>\n",
       "      <td>0.163748</td>\n",
       "      <td>0.766694</td>\n",
       "      <td>0.767072</td>\n",
       "      <td>0.022848</td>\n",
       "      <td>0.139660</td>\n",
       "      <td>0.040948</td>\n",
       "      <td>0.107942</td>\n",
       "      <td>0.000000</td>\n",
       "      <td>1.406033</td>\n",
       "      <td>0.013358</td>\n",
       "      <td>...</td>\n",
       "      <td>0.161115</td>\n",
       "      <td>0.000000</td>\n",
       "      <td>0.0</td>\n",
       "      <td>0.214748</td>\n",
       "      <td>0.864863</td>\n",
       "      <td>0.0</td>\n",
       "      <td>0.012611</td>\n",
       "      <td>0.0</td>\n",
       "      <td>0.070998</td>\n",
       "      <td>0.0</td>\n",
       "    </tr>\n",
       "    <tr>\n",
       "      <th>TCGA-DD-A3A8-11A</th>\n",
       "      <td>4.003451</td>\n",
       "      <td>0.000000</td>\n",
       "      <td>0.110885</td>\n",
       "      <td>0.026463</td>\n",
       "      <td>8.568801</td>\n",
       "      <td>9.615037</td>\n",
       "      <td>0.000000</td>\n",
       "      <td>10.921722</td>\n",
       "      <td>0.000000</td>\n",
       "      <td>0.015480</td>\n",
       "      <td>...</td>\n",
       "      <td>0.000000</td>\n",
       "      <td>0.000000</td>\n",
       "      <td>0.0</td>\n",
       "      <td>0.000000</td>\n",
       "      <td>0.000000</td>\n",
       "      <td>0.0</td>\n",
       "      <td>0.401312</td>\n",
       "      <td>0.0</td>\n",
       "      <td>0.000000</td>\n",
       "      <td>0.0</td>\n",
       "    </tr>\n",
       "    <tr>\n",
       "      <th>GTEX-PX3G-0326-SM-2I3EO</th>\n",
       "      <td>0.052237</td>\n",
       "      <td>0.045330</td>\n",
       "      <td>0.061543</td>\n",
       "      <td>0.015814</td>\n",
       "      <td>0.023372</td>\n",
       "      <td>0.016306</td>\n",
       "      <td>0.149207</td>\n",
       "      <td>0.040630</td>\n",
       "      <td>0.007055</td>\n",
       "      <td>0.000000</td>\n",
       "      <td>...</td>\n",
       "      <td>0.000000</td>\n",
       "      <td>0.000000</td>\n",
       "      <td>0.0</td>\n",
       "      <td>0.187641</td>\n",
       "      <td>0.000000</td>\n",
       "      <td>0.0</td>\n",
       "      <td>0.000000</td>\n",
       "      <td>0.0</td>\n",
       "      <td>0.000000</td>\n",
       "      <td>0.0</td>\n",
       "    </tr>\n",
       "    <tr>\n",
       "      <th>GTEX-XLM4-0011-R3B-SM-4AT6E</th>\n",
       "      <td>0.108329</td>\n",
       "      <td>0.350975</td>\n",
       "      <td>0.085389</td>\n",
       "      <td>0.486369</td>\n",
       "      <td>0.029594</td>\n",
       "      <td>0.041027</td>\n",
       "      <td>0.150139</td>\n",
       "      <td>0.117122</td>\n",
       "      <td>0.011917</td>\n",
       "      <td>1.130954</td>\n",
       "      <td>...</td>\n",
       "      <td>0.000000</td>\n",
       "      <td>0.000000</td>\n",
       "      <td>0.0</td>\n",
       "      <td>0.066263</td>\n",
       "      <td>0.000000</td>\n",
       "      <td>0.0</td>\n",
       "      <td>0.036595</td>\n",
       "      <td>0.0</td>\n",
       "      <td>0.062718</td>\n",
       "      <td>0.0</td>\n",
       "    </tr>\n",
       "    <tr>\n",
       "      <th>GTEX-RM2N-0726-SM-48FD5</th>\n",
       "      <td>0.047108</td>\n",
       "      <td>0.176655</td>\n",
       "      <td>0.084551</td>\n",
       "      <td>0.074389</td>\n",
       "      <td>0.234415</td>\n",
       "      <td>0.756130</td>\n",
       "      <td>0.049303</td>\n",
       "      <td>0.280086</td>\n",
       "      <td>0.000000</td>\n",
       "      <td>0.306497</td>\n",
       "      <td>...</td>\n",
       "      <td>0.000000</td>\n",
       "      <td>0.074918</td>\n",
       "      <td>0.0</td>\n",
       "      <td>0.180624</td>\n",
       "      <td>2.556904</td>\n",
       "      <td>0.0</td>\n",
       "      <td>0.000000</td>\n",
       "      <td>0.0</td>\n",
       "      <td>0.000000</td>\n",
       "      <td>0.0</td>\n",
       "    </tr>\n",
       "  </tbody>\n",
       "</table>\n",
       "<p>5 rows × 1685 columns</p>\n",
       "</div>"
      ],
      "text/plain": [
       "                              NAT2@10  AANAT@15  ABCA4@24  ACRV1@56  \\\n",
       "id_sample                                                             \n",
       "TCGA-85-7710-11A             0.163748  0.766694  0.767072  0.022848   \n",
       "TCGA-DD-A3A8-11A             4.003451  0.000000  0.110885  0.026463   \n",
       "GTEX-PX3G-0326-SM-2I3EO      0.052237  0.045330  0.061543  0.015814   \n",
       "GTEX-XLM4-0011-R3B-SM-4AT6E  0.108329  0.350975  0.085389  0.486369   \n",
       "GTEX-RM2N-0726-SM-48FD5      0.047108  0.176655  0.084551  0.074389   \n",
       "\n",
       "                             ADH1A@124  ADH4@127  ACAN@176   AHSG@197  \\\n",
       "id_sample                                                               \n",
       "TCGA-85-7710-11A              0.139660  0.040948  0.107942   0.000000   \n",
       "TCGA-DD-A3A8-11A              8.568801  9.615037  0.000000  10.921722   \n",
       "GTEX-PX3G-0326-SM-2I3EO       0.023372  0.016306  0.149207   0.040630   \n",
       "GTEX-XLM4-0011-R3B-SM-4AT6E   0.029594  0.041027  0.150139   0.117122   \n",
       "GTEX-RM2N-0726-SM-48FD5       0.234415  0.756130  0.049303   0.280086   \n",
       "\n",
       "                             ALPG@251  AMY2A@279  ...  LOC102724804@102724804  \\\n",
       "id_sample                                         ...                           \n",
       "TCGA-85-7710-11A             1.406033   0.013358  ...                0.161115   \n",
       "TCGA-DD-A3A8-11A             0.000000   0.015480  ...                0.000000   \n",
       "GTEX-PX3G-0326-SM-2I3EO      0.007055   0.000000  ...                0.000000   \n",
       "GTEX-XLM4-0011-R3B-SM-4AT6E  0.011917   1.130954  ...                0.000000   \n",
       "GTEX-RM2N-0726-SM-48FD5      0.000000   0.306497  ...                0.000000   \n",
       "\n",
       "                             RGS2-AS1@102724954  CASC23@103581031  \\\n",
       "id_sample                                                           \n",
       "TCGA-85-7710-11A                       0.000000               0.0   \n",
       "TCGA-DD-A3A8-11A                       0.000000               0.0   \n",
       "GTEX-PX3G-0326-SM-2I3EO                0.000000               0.0   \n",
       "GTEX-XLM4-0011-R3B-SM-4AT6E            0.000000               0.0   \n",
       "GTEX-RM2N-0726-SM-48FD5                0.074918               0.0   \n",
       "\n",
       "                             LINC01337@103689917  LINC01269@103695436  \\\n",
       "id_sample                                                               \n",
       "TCGA-85-7710-11A                        0.214748             0.864863   \n",
       "TCGA-DD-A3A8-11A                        0.000000             0.000000   \n",
       "GTEX-PX3G-0326-SM-2I3EO                 0.187641             0.000000   \n",
       "GTEX-XLM4-0011-R3B-SM-4AT6E             0.066263             0.000000   \n",
       "GTEX-RM2N-0726-SM-48FD5                 0.180624             2.556904   \n",
       "\n",
       "                             SMAD1-AS1@104326058  LINC01320@104355288  \\\n",
       "id_sample                                                               \n",
       "TCGA-85-7710-11A                             0.0             0.012611   \n",
       "TCGA-DD-A3A8-11A                             0.0             0.401312   \n",
       "GTEX-PX3G-0326-SM-2I3EO                      0.0             0.000000   \n",
       "GTEX-XLM4-0011-R3B-SM-4AT6E                  0.0             0.036595   \n",
       "GTEX-RM2N-0726-SM-48FD5                      0.0             0.000000   \n",
       "\n",
       "                             LINC01525@104355292  FOXP1-AS1@104502416  \\\n",
       "id_sample                                                               \n",
       "TCGA-85-7710-11A                             0.0             0.070998   \n",
       "TCGA-DD-A3A8-11A                             0.0             0.000000   \n",
       "GTEX-PX3G-0326-SM-2I3EO                      0.0             0.000000   \n",
       "GTEX-XLM4-0011-R3B-SM-4AT6E                  0.0             0.062718   \n",
       "GTEX-RM2N-0726-SM-48FD5                      0.0             0.000000   \n",
       "\n",
       "                             LOC104613533@104613533  \n",
       "id_sample                                            \n",
       "TCGA-85-7710-11A                                0.0  \n",
       "TCGA-DD-A3A8-11A                                0.0  \n",
       "GTEX-PX3G-0326-SM-2I3EO                         0.0  \n",
       "GTEX-XLM4-0011-R3B-SM-4AT6E                     0.0  \n",
       "GTEX-RM2N-0726-SM-48FD5                         0.0  \n",
       "\n",
       "[5 rows x 1685 columns]"
      ]
     },
     "execution_count": 5,
     "metadata": {},
     "output_type": "execute_result"
    }
   ],
   "source": [
    "X = data.drop(columns=['target'])\n",
    "X.head()"
   ]
  },
  {
   "cell_type": "markdown",
   "id": "30a8e3d5-65a9-41c9-8204-d5b8ef04d6b7",
   "metadata": {},
   "source": [
    "## Variance"
   ]
  },
  {
   "cell_type": "code",
   "execution_count": 6,
   "id": "108edebf-d6a1-4dba-bb84-1158abe37cca",
   "metadata": {},
   "outputs": [
    {
     "data": {
      "text/html": [
       "<div>\n",
       "<style scoped>\n",
       "    .dataframe tbody tr th:only-of-type {\n",
       "        vertical-align: middle;\n",
       "    }\n",
       "\n",
       "    .dataframe tbody tr th {\n",
       "        vertical-align: top;\n",
       "    }\n",
       "\n",
       "    .dataframe thead th {\n",
       "        text-align: right;\n",
       "    }\n",
       "</style>\n",
       "<table border=\"1\" class=\"dataframe\">\n",
       "  <thead>\n",
       "    <tr style=\"text-align: right;\">\n",
       "      <th></th>\n",
       "      <th>var</th>\n",
       "      <th>gene_index</th>\n",
       "    </tr>\n",
       "  </thead>\n",
       "  <tbody>\n",
       "    <tr>\n",
       "      <th>GFAP@2670</th>\n",
       "      <td>9.925285</td>\n",
       "      <td>0</td>\n",
       "    </tr>\n",
       "    <tr>\n",
       "      <th>SFTPC@6440</th>\n",
       "      <td>9.351836</td>\n",
       "      <td>1</td>\n",
       "    </tr>\n",
       "    <tr>\n",
       "      <th>SFTPB@6439</th>\n",
       "      <td>9.280292</td>\n",
       "      <td>2</td>\n",
       "    </tr>\n",
       "    <tr>\n",
       "      <th>SFTPA2@729238</th>\n",
       "      <td>8.640975</td>\n",
       "      <td>3</td>\n",
       "    </tr>\n",
       "    <tr>\n",
       "      <th>SFTPA1@653509</th>\n",
       "      <td>8.446627</td>\n",
       "      <td>4</td>\n",
       "    </tr>\n",
       "  </tbody>\n",
       "</table>\n",
       "</div>"
      ],
      "text/plain": [
       "                    var  gene_index\n",
       "GFAP@2670      9.925285           0\n",
       "SFTPC@6440     9.351836           1\n",
       "SFTPB@6439     9.280292           2\n",
       "SFTPA2@729238  8.640975           3\n",
       "SFTPA1@653509  8.446627           4"
      ]
     },
     "execution_count": 6,
     "metadata": {},
     "output_type": "execute_result"
    }
   ],
   "source": [
    "variance = X.var().sort_values(ascending=False)\n",
    "variance = pd.DataFrame(variance, index=variance.index, columns=['var'])\n",
    "variance['gene_index'] = np.arange(variance.shape[0])\n",
    "variance.head()"
   ]
  },
  {
   "cell_type": "code",
   "execution_count": 7,
   "id": "758da233-9858-4751-801c-62955e8f5d07",
   "metadata": {},
   "outputs": [
    {
     "data": {
      "image/png": "[encoded data removed]",
      "text/plain": [
       "<Figure size 432x288 with 1 Axes>"
      ]
     },
     "metadata": {
      "needs_background": "light"
     },
     "output_type": "display_data"
    }
   ],
   "source": [
    "noise_level = 0.3\n",
    "ax = variance.plot.scatter(x='gene_index', y='var')\n",
    "l = ax.plot([0, variance.shape[0]], [noise_level, noise_level], color='crimson')"
   ]
  },
  {
   "cell_type": "code",
   "execution_count": 8,
   "id": "a5178ed0-6075-457a-a6c8-7e5b20bfc619",
   "metadata": {},
   "outputs": [
    {
     "data": {
      "image/png": "[encoded data removed]",
      "text/plain": [
       "<Figure size 1080x360 with 1 Axes>"
      ]
     },
     "metadata": {
      "needs_background": "light"
     },
     "output_type": "display_data"
    }
   ],
   "source": [
    "top_var = list(variance.head(5).index)\n",
    "bottom_var = list(variance.tail(5).index)\n",
    "selected = [*top_var, *bottom_var]\n",
    "ax = X[selected].plot.box(figsize=(15, 5))"
   ]
  },
  {
   "cell_type": "markdown",
   "id": "7cfcbe72-04ed-4103-b982-b608e464fd86",
   "metadata": {},
   "source": [
    "## Réduction de variables par variance"
   ]
  },
  {
   "cell_type": "markdown",
   "id": "26733969-c994-41ff-b93a-cdc0cf0d06cc",
   "metadata": {},
   "source": [
    "### Condition : variance au dessus du niveau de bruit"
   ]
  },
  {
   "cell_type": "code",
   "execution_count": 9,
   "id": "67de1882-ba32-4ffc-8298-f7594db36962",
   "metadata": {},
   "outputs": [
    {
     "name": "stdout",
     "output_type": "stream",
     "text": [
      "882\n"
     ]
    }
   ],
   "source": [
    "# noise_level = 0.3\n",
    "cond = variance['var']>noise_level\n",
    "selected_features = list(variance[cond].index)\n",
    "print(len(selected_features))"
   ]
  },
  {
   "cell_type": "markdown",
   "id": "66d55442-5b7c-43d4-94f5-13b6ce6034f7",
   "metadata": {},
   "source": [
    "### Export dans un fichier"
   ]
  },
  {
   "cell_type": "code",
   "execution_count": 10,
   "id": "6c87e1c3-e3b8-4386-b7f3-be729d654b9a",
   "metadata": {},
   "outputs": [],
   "source": [
    "train = pd.DataFrame(X[selected_features])\n",
    "train['target'] = y.loc[X.index]\n",
    "train = train[['target', *selected_features]]\n",
    "train.to_csv(data_dir + 'TSG3_train_' + str(train.shape[0]) + '_samples_' + str(len(selected_features)) + '_genes.csv', sep=';', index=True)"
   ]
  },
  {
   "cell_type": "code",
   "execution_count": null,
   "id": "a2a6d3c3-a065-465e-a95c-de29a44c0ee8",
   "metadata": {},
   "outputs": [],
   "source": []
  }
 ],
 "metadata": {
  "kernelspec": {
   "display_name": "Python 3 (ipykernel)",
   "language": "python",
   "name": "python3"
  },
  "language_info": {
   "codemirror_mode": {
    "name": "ipython",
    "version": 3
   },
   "file_extension": ".py",
   "mimetype": "text/x-python",
   "name": "python",
   "nbconvert_exporter": "python",
   "pygments_lexer": "ipython3",
   "version": "3.9.7"
  }
 },
 "nbformat": 4,
 "nbformat_minor": 5
}
